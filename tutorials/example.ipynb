{
 "cells": [
  {
   "cell_type": "markdown",
   "metadata": {
    "id": "tK3iwZAjHjLC"
   },
   "source": [
    "# Example Notebook\n",
    "\n",
    "In this notebook we demonstrate CompFS on the Syn1 experiment from the paper. This can be used on custom data if it is written as numpy arrays."
   ]
  },
  {
   "cell_type": "code",
   "execution_count": 10,
   "metadata": {
    "colab": {
     "base_uri": "https://localhost:8080/"
    },
    "id": "mpWMfto--idh",
    "outputId": "b4594c75-ae28-4c35-ef13-01949e812781"
   },
   "outputs": [
    {
     "name": "stdout",
     "output_type": "stream",
     "text": [
      "cuda:0\n"
     ]
    }
   ],
   "source": [
    "import numpy as np\n",
    "import torch\n",
    "import torch.nn as nn\n",
    "\n",
    "# Set and print device.\n",
    "device = torch.device(\"cuda:0\" if torch.cuda.is_available() else \"cpu\")\n",
    "print(device)"
   ]
  },
  {
   "cell_type": "markdown",
   "metadata": {},
   "source": [
    "# Import required files from CompFS Repo"
   ]
  },
  {
   "cell_type": "code",
   "execution_count": 11,
   "metadata": {},
   "outputs": [
    {
     "ename": "ModuleNotFoundError",
     "evalue": "No module named 'rdkit'",
     "output_type": "error",
     "traceback": [
      "\u001B[1;31m---------------------------------------------------------------------------\u001B[0m",
      "\u001B[1;31mModuleNotFoundError\u001B[0m                       Traceback (most recent call last)",
      "Input \u001B[1;32mIn [11]\u001B[0m, in \u001B[0;36m<cell line: 4>\u001B[1;34m()\u001B[0m\n\u001B[0;32m      2\u001B[0m \u001B[38;5;28;01mfrom\u001B[39;00m \u001B[38;5;21;01mcompfs\u001B[39;00m\u001B[38;5;21;01m.\u001B[39;00m\u001B[38;5;21;01mmodels\u001B[39;00m \u001B[38;5;28;01mimport\u001B[39;00m CompFS, TorchModel\n\u001B[0;32m      3\u001B[0m \u001B[38;5;28;01mfrom\u001B[39;00m \u001B[38;5;21;01mcompfs\u001B[39;00m\u001B[38;5;21;01m.\u001B[39;00m\u001B[38;5;21;01mthresholding_functions\u001B[39;00m \u001B[38;5;28;01mimport\u001B[39;00m make_lambda_threshold\n\u001B[1;32m----> 4\u001B[0m \u001B[38;5;28;01mfrom\u001B[39;00m \u001B[38;5;21;01mcompfs\u001B[39;00m\u001B[38;5;21;01m.\u001B[39;00m\u001B[38;5;21;01mdatasets\u001B[39;00m \u001B[38;5;28;01mimport\u001B[39;00m NumpyDataset\n",
      "File \u001B[1;32mD:\\projects\\Composite-Feature-Selection\\compfs\\datasets\\__init__.py:1\u001B[0m, in \u001B[0;36m<module>\u001B[1;34m\u001B[0m\n\u001B[1;32m----> 1\u001B[0m \u001B[38;5;28;01mfrom\u001B[39;00m \u001B[38;5;21;01m.\u001B[39;00m\u001B[38;5;21;01mdatasets\u001B[39;00m \u001B[38;5;28;01mimport\u001B[39;00m (  \u001B[38;5;66;03m# noqa: F401\u001B[39;00m\n\u001B[0;32m      2\u001B[0m     MNIST,\n\u001B[0;32m      3\u001B[0m     ChemistryBinding,\n\u001B[0;32m      4\u001B[0m     Metabric,\n\u001B[0;32m      5\u001B[0m     NumpyDataset,\n\u001B[0;32m      6\u001B[0m     SyntheticGaussian,\n\u001B[0;32m      7\u001B[0m )\n",
      "File \u001B[1;32mD:\\projects\\Composite-Feature-Selection\\compfs\\datasets\\datasets.py:13\u001B[0m, in \u001B[0;36m<module>\u001B[1;34m\u001B[0m\n\u001B[0;32m     10\u001B[0m \u001B[38;5;28;01mfrom\u001B[39;00m \u001B[38;5;21;01mtorch\u001B[39;00m\u001B[38;5;21;01m.\u001B[39;00m\u001B[38;5;21;01mdistributions\u001B[39;00m\u001B[38;5;21;01m.\u001B[39;00m\u001B[38;5;21;01mmultivariate_normal\u001B[39;00m \u001B[38;5;28;01mimport\u001B[39;00m MultivariateNormal\n\u001B[0;32m     11\u001B[0m \u001B[38;5;28;01mfrom\u001B[39;00m \u001B[38;5;21;01mtorch\u001B[39;00m\u001B[38;5;21;01m.\u001B[39;00m\u001B[38;5;21;01mutils\u001B[39;00m\u001B[38;5;21;01m.\u001B[39;00m\u001B[38;5;21;01mdata\u001B[39;00m \u001B[38;5;28;01mimport\u001B[39;00m Dataset\n\u001B[1;32m---> 13\u001B[0m \u001B[38;5;28;01mfrom\u001B[39;00m \u001B[38;5;21;01mcompfs\u001B[39;00m\u001B[38;5;21;01m.\u001B[39;00m\u001B[38;5;21;01mdatasets\u001B[39;00m \u001B[38;5;28;01mimport\u001B[39;00m chem_featuriser\n\u001B[0;32m     14\u001B[0m \u001B[38;5;28;01mfrom\u001B[39;00m \u001B[38;5;21;01mcompfs\u001B[39;00m\u001B[38;5;21;01m.\u001B[39;00m\u001B[38;5;21;01mdatasets\u001B[39;00m\u001B[38;5;21;01m.\u001B[39;00m\u001B[38;5;21;01mnetwork\u001B[39;00m \u001B[38;5;28;01mimport\u001B[39;00m download_if_needed\n\u001B[0;32m     17\u001B[0m \u001B[38;5;28;01mclass\u001B[39;00m \u001B[38;5;21;01mNumpyDataset\u001B[39;00m(Dataset):\n",
      "File \u001B[1;32mD:\\projects\\Composite-Feature-Selection\\compfs\\datasets\\chem_featuriser.py:8\u001B[0m, in \u001B[0;36m<module>\u001B[1;34m\u001B[0m\n\u001B[0;32m      6\u001B[0m \u001B[38;5;28;01mimport\u001B[39;00m \u001B[38;5;21;01mnumpy\u001B[39;00m \u001B[38;5;28;01mas\u001B[39;00m \u001B[38;5;21;01mnp\u001B[39;00m\n\u001B[0;32m      7\u001B[0m \u001B[38;5;28;01mimport\u001B[39;00m \u001B[38;5;21;01mpandas\u001B[39;00m \u001B[38;5;28;01mas\u001B[39;00m \u001B[38;5;21;01mpd\u001B[39;00m\n\u001B[1;32m----> 8\u001B[0m \u001B[38;5;28;01mfrom\u001B[39;00m \u001B[38;5;21;01mrdkit\u001B[39;00m \u001B[38;5;28;01mimport\u001B[39;00m Chem\n\u001B[0;32m     10\u001B[0m \u001B[38;5;66;03m# List of SMARTS adapted from GlobalChem - Open Smiles\u001B[39;00m\n\u001B[0;32m     11\u001B[0m functional_groups_smarts \u001B[38;5;241m=\u001B[39m {\n\u001B[0;32m     12\u001B[0m     \u001B[38;5;124m\"\u001B[39m\u001B[38;5;124macetic anydride\u001B[39m\u001B[38;5;124m\"\u001B[39m: \u001B[38;5;124m\"\u001B[39m\u001B[38;5;124m[CX3](=[OX1])[OX2][CX3](=[OX1])\u001B[39m\u001B[38;5;124m\"\u001B[39m,  \u001B[38;5;66;03m# 0\u001B[39;00m\n\u001B[0;32m     13\u001B[0m     \u001B[38;5;124m\"\u001B[39m\u001B[38;5;124macetylenic carbon\u001B[39m\u001B[38;5;124m\"\u001B[39m: \u001B[38;5;124m\"\u001B[39m\u001B[38;5;124m[$([CX2]#C)]\u001B[39m\u001B[38;5;124m\"\u001B[39m,  \u001B[38;5;66;03m# Alkyne\u001B[39;00m\n\u001B[1;32m   (...)\u001B[0m\n\u001B[0;32m     95\u001B[0m     \u001B[38;5;124m\"\u001B[39m\u001B[38;5;124mvinylic carbon\u001B[39m\u001B[38;5;124m\"\u001B[39m: \u001B[38;5;124m\"\u001B[39m\u001B[38;5;124m[$([CX3]=[CX3])]\u001B[39m\u001B[38;5;124m\"\u001B[39m,  \u001B[38;5;66;03m# Also known as alkene\u001B[39;00m\n\u001B[0;32m     96\u001B[0m }\n",
      "\u001B[1;31mModuleNotFoundError\u001B[0m: No module named 'rdkit'"
     ]
    }
   ],
   "source": [
    "from compfs.metrics import accuracy, gsim, tpr_fdr\n",
    "from compfs.models import CompFS, TorchModel\n",
    "from compfs.thresholding_functions import make_lambda_threshold\n",
    "from compfs.datasets import NumpyDataset"
   ]
  },
  {
   "cell_type": "markdown",
   "metadata": {
    "id": "bKlg239SDEPs"
   },
   "source": [
    "# Example\n",
    "\n",
    "Here we demonstrate CompFS on Syn1. The two cells below can be edited to run your own data."
   ]
  },
  {
   "cell_type": "code",
   "execution_count": 12,
   "metadata": {
    "id": "afsRGOZjEKMQ"
   },
   "outputs": [],
   "source": [
    "# These can be changed to run your own data.\n",
    "\n",
    "X_train = np.random.normal(size=(20000, 500))\n",
    "y_train = np.array([((x[0] > 0.55) or (x[1] > 0.55)) for x in X_train])\n",
    "X_val = np.random.normal(size=(200, 500))\n",
    "y_val = np.array([((x[0] > 0.55) or (x[1] > 0.55)) for x in X_val])\n",
    "\n",
    "is_classification = True\n",
    "\n",
    "ground_truth_groups = [np.array([0]), np.array([1])]"
   ]
  },
  {
   "cell_type": "code",
   "execution_count": 13,
   "metadata": {
    "id": "jGlzWZtLFhs6"
   },
   "outputs": [],
   "source": [
    "# This config should be changed to use your own data, and find specific\n",
    "# hyperparameters for the problem.\n",
    "\n",
    "compfs_config = {\n",
    "    \"model\": CompFS,\n",
    "    \"model_config\": {\n",
    "        \"lr\": 0.003,\n",
    "        \"lr_decay\": 0.99,\n",
    "        \"batchsize\": 50,\n",
    "        \"num_epochs\": 35,\n",
    "        \"loss_func\": nn.CrossEntropyLoss(),\n",
    "        \"val_metric\": accuracy,\n",
    "        \"in_dim\": 500,\n",
    "        \"h_dim\": 20,\n",
    "        \"out_dim\": 2,\n",
    "        \"nlearners\": 5,\n",
    "        \"threshold_func\": make_lambda_threshold(0.7),\n",
    "        \"temp\": 0.1,\n",
    "        \"beta_s\": 4.5,\n",
    "        \"beta_s_decay\": 0.99,\n",
    "        \"beta_d\": 1.2,\n",
    "        \"beta_d_decay\": 0.99,\n",
    "    },\n",
    "}\n",
    "\n",
    "compfs_config[\"device\"] = device"
   ]
  },
  {
   "cell_type": "markdown",
   "metadata": {},
   "source": [
    "# Train a CompFS Model and see the Groups"
   ]
  },
  {
   "cell_type": "code",
   "execution_count": 14,
   "metadata": {
    "id": "lcG_8oYLE7FI"
   },
   "outputs": [
    {
     "ename": "NameError",
     "evalue": "name 'NumpyDataset' is not defined",
     "output_type": "error",
     "traceback": [
      "\u001B[1;31m---------------------------------------------------------------------------\u001B[0m",
      "\u001B[1;31mNameError\u001B[0m                                 Traceback (most recent call last)",
      "Input \u001B[1;32mIn [14]\u001B[0m, in \u001B[0;36m<cell line: 1>\u001B[1;34m()\u001B[0m\n\u001B[1;32m----> 1\u001B[0m train_data \u001B[38;5;241m=\u001B[39m \u001B[43mNumpyDataset\u001B[49m(X_train, y_train, classification\u001B[38;5;241m=\u001B[39mis_classification)\n\u001B[0;32m      2\u001B[0m val_data \u001B[38;5;241m=\u001B[39m NumpyDataset(X_val, y_val, classification\u001B[38;5;241m=\u001B[39mis_classification)\n\u001B[0;32m      3\u001B[0m model \u001B[38;5;241m=\u001B[39m TorchModel(compfs_config)\n",
      "\u001B[1;31mNameError\u001B[0m: name 'NumpyDataset' is not defined"
     ]
    }
   ],
   "source": [
    "train_data = NumpyDataset(X_train, y_train, classification=is_classification)\n",
    "val_data = NumpyDataset(X_val, y_val, classification=is_classification)\n",
    "model = TorchModel(compfs_config)\n",
    "model.train(train_data, val_data)"
   ]
  },
  {
   "cell_type": "code",
   "execution_count": null,
   "metadata": {
    "colab": {
     "base_uri": "https://localhost:8080/"
    },
    "id": "9tiWX3lWGXcf",
    "outputId": "ce83a0d1-c833-4858-84ed-844db72df098"
   },
   "outputs": [],
   "source": [
    "# Get group similarity and group structure.\n",
    "tpr, fdr = tpr_fdr(ground_truth_groups, model.get_groups())\n",
    "group_sim, ntrue, npredicted = gsim(ground_truth_groups, model.get_groups())\n",
    "\n",
    "print(\"\\n\\nGroup Structure:\")\n",
    "print(\n",
    "    \"Group Similarity: {:.3f}, True Positive Rate: {:.3f}%, False Discovery Rate: {:.3f}%\".format(\n",
    "        group_sim, tpr, fdr\n",
    "    )\n",
    ")\n",
    "print(\n",
    "    \"Number of True Groups: {}, Number of Predicted Groups: {}\".format(\n",
    "        ntrue, npredicted\n",
    "    )\n",
    ")\n",
    "\n",
    "# Give selected features and save the groups.\n",
    "print(\"\\n\\nSelected Features:\")\n",
    "learnt_groups = model.get_groups()\n",
    "for i in range(len(learnt_groups)):\n",
    "    print(\"Group: {}, Features: {}\".format(i + 1, learnt_groups[i]))"
   ]
  },
  {
   "cell_type": "markdown",
   "metadata": {
    "id": "Wsn30ZLfIIgF"
   },
   "source": [
    "We see that the model finds the features, usually separating features 0 and 1, occasionally grouping them together."
   ]
  }
 ],
 "metadata": {
  "colab": {
   "provenance": []
  },
  "kernelspec": {
   "display_name": "Python 3 (ipykernel)",
   "language": "python",
   "name": "python3"
  },
  "language_info": {
   "codemirror_mode": {
    "name": "ipython",
    "version": 3
   },
   "file_extension": ".py",
   "mimetype": "text/x-python",
   "name": "python",
   "nbconvert_exporter": "python",
   "pygments_lexer": "ipython3",
   "version": "3.7.6"
  }
 },
 "nbformat": 4,
 "nbformat_minor": 1
}
